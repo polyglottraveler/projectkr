{
 "cells": [
  {
   "cell_type": "code",
   "execution_count": 1,
   "metadata": {},
   "outputs": [
    {
     "name": "stdout",
     "output_type": "stream",
     "text": [
      "Requirement already satisfied: mysql-connector-python in /Users/kcahlers/Applications/anaconda3/lib/python3.7/site-packages (8.0.20)\r\n",
      "Requirement already satisfied: protobuf>=3.0.0 in /Users/kcahlers/Applications/anaconda3/lib/python3.7/site-packages (from mysql-connector-python) (3.12.2)\r\n",
      "Requirement already satisfied: setuptools in /Users/kcahlers/Applications/anaconda3/lib/python3.7/site-packages (from protobuf>=3.0.0->mysql-connector-python) (46.0.0.post20200309)\r\n",
      "Requirement already satisfied: six>=1.9 in /Users/kcahlers/Applications/anaconda3/lib/python3.7/site-packages (from protobuf>=3.0.0->mysql-connector-python) (1.14.0)\r\n"
     ]
    }
   ],
   "source": [
    "import sqlite3\n",
    "import pandas as pd\n",
    "import matplotlib.pyplot as plt\n",
    "\n",
    "!pip install mysql-connector-python"
   ]
  },
  {
   "cell_type": "code",
   "execution_count": 126,
   "metadata": {},
   "outputs": [],
   "source": [
    "import mysql.connector\n",
    "\n",
    "con = mysql.connector.connect(user='hbs-student', password='super-secure-password?',\n",
    "                              host='hbs-ds-060120.c1doesqrid0e.us-east-1.rds.amazonaws.com',\n",
    "                              database='movies')\n",
    "cur = con.cursor()"
   ]
  },
  {
   "cell_type": "code",
   "execution_count": 130,
   "metadata": {},
   "outputs": [
    {
     "name": "stdout",
     "output_type": "stream",
     "text": [
      "<class 'pandas.core.frame.DataFrame'>\n",
      "RangeIndex: 2448 entries, 0 to 2447\n",
      "Data columns (total 6 columns):\n",
      " #   Column             Non-Null Count  Dtype  \n",
      "---  ------             --------------  -----  \n",
      " 0   title              2448 non-null   object \n",
      " 1   popularity         2448 non-null   float64\n",
      " 2   vote_average       2448 non-null   float64\n",
      " 3   production_budget  2448 non-null   int64  \n",
      " 4   domestic_gross     2448 non-null   object \n",
      " 5   worldwide_gross    2448 non-null   object \n",
      "dtypes: float64(2), int64(1), object(3)\n",
      "memory usage: 114.9+ KB\n"
     ]
    }
   ],
   "source": [
    "query1=\"\"\"select title, popularity, vote_average, vote_count \n",
    "production_budget, domestic_gross, worldwide_gross\n",
    "from tmdb_movies join tn_movie_budgets on title=movie\"\"\"\n",
    "#cur.execute(query,con)\n",
    "#df=pd.DataFrame(cur.fetchall())\n",
    "#df.columns = [x[0] for x in cur.description()]\n",
    "#df\n",
    "df1 = pd.read_sql_query(query1, con)\n",
    "df1.head()\n",
    "df1.info()"
   ]
  },
  {
   "cell_type": "code",
   "execution_count": 131,
   "metadata": {},
   "outputs": [],
   "source": [
    "df1[df1.columns[3:]] = df1[df1.columns[3:]].replace('[\\$,]', '', regex=True).astype(float)"
   ]
  },
  {
   "cell_type": "code",
   "execution_count": 133,
   "metadata": {},
   "outputs": [],
   "source": [
    "df1['profitability'] = df1['worldwide_gross']-df1['production_budget']"
   ]
  },
  {
   "cell_type": "code",
   "execution_count": 134,
   "metadata": {},
   "outputs": [
    {
     "data": {
      "text/html": [
       "<div>\n",
       "<style scoped>\n",
       "    .dataframe tbody tr th:only-of-type {\n",
       "        vertical-align: middle;\n",
       "    }\n",
       "\n",
       "    .dataframe tbody tr th {\n",
       "        vertical-align: top;\n",
       "    }\n",
       "\n",
       "    .dataframe thead th {\n",
       "        text-align: right;\n",
       "    }\n",
       "</style>\n",
       "<table border=\"1\" class=\"dataframe\">\n",
       "  <thead>\n",
       "    <tr style=\"text-align: right;\">\n",
       "      <th></th>\n",
       "      <th>title</th>\n",
       "      <th>popularity</th>\n",
       "      <th>vote_average</th>\n",
       "      <th>production_budget</th>\n",
       "      <th>domestic_gross</th>\n",
       "      <th>worldwide_gross</th>\n",
       "      <th>profitability</th>\n",
       "    </tr>\n",
       "  </thead>\n",
       "  <tbody>\n",
       "    <tr>\n",
       "      <th>0</th>\n",
       "      <td>How to Train Your Dragon</td>\n",
       "      <td>28.734</td>\n",
       "      <td>7.7</td>\n",
       "      <td>7610.0</td>\n",
       "      <td>217581232.0</td>\n",
       "      <td>494870992.0</td>\n",
       "      <td>494863382.0</td>\n",
       "    </tr>\n",
       "    <tr>\n",
       "      <th>1</th>\n",
       "      <td>Iron Man 2</td>\n",
       "      <td>28.515</td>\n",
       "      <td>6.8</td>\n",
       "      <td>12368.0</td>\n",
       "      <td>312433331.0</td>\n",
       "      <td>621156389.0</td>\n",
       "      <td>621144021.0</td>\n",
       "    </tr>\n",
       "    <tr>\n",
       "      <th>2</th>\n",
       "      <td>Toy Story</td>\n",
       "      <td>28.005</td>\n",
       "      <td>7.9</td>\n",
       "      <td>10174.0</td>\n",
       "      <td>191796233.0</td>\n",
       "      <td>364545516.0</td>\n",
       "      <td>364535342.0</td>\n",
       "    </tr>\n",
       "    <tr>\n",
       "      <th>3</th>\n",
       "      <td>Inception</td>\n",
       "      <td>27.920</td>\n",
       "      <td>8.3</td>\n",
       "      <td>22186.0</td>\n",
       "      <td>292576195.0</td>\n",
       "      <td>835524642.0</td>\n",
       "      <td>835502456.0</td>\n",
       "    </tr>\n",
       "    <tr>\n",
       "      <th>4</th>\n",
       "      <td>Percy Jackson &amp; the Olympians: The Lightning T...</td>\n",
       "      <td>26.691</td>\n",
       "      <td>6.1</td>\n",
       "      <td>4229.0</td>\n",
       "      <td>88768303.0</td>\n",
       "      <td>223050874.0</td>\n",
       "      <td>223046645.0</td>\n",
       "    </tr>\n",
       "  </tbody>\n",
       "</table>\n",
       "</div>"
      ],
      "text/plain": [
       "                                               title  popularity  \\\n",
       "0                           How to Train Your Dragon      28.734   \n",
       "1                                         Iron Man 2      28.515   \n",
       "2                                          Toy Story      28.005   \n",
       "3                                          Inception      27.920   \n",
       "4  Percy Jackson & the Olympians: The Lightning T...      26.691   \n",
       "\n",
       "   vote_average  production_budget  domestic_gross  worldwide_gross  \\\n",
       "0           7.7             7610.0     217581232.0      494870992.0   \n",
       "1           6.8            12368.0     312433331.0      621156389.0   \n",
       "2           7.9            10174.0     191796233.0      364545516.0   \n",
       "3           8.3            22186.0     292576195.0      835524642.0   \n",
       "4           6.1             4229.0      88768303.0      223050874.0   \n",
       "\n",
       "   profitability  \n",
       "0    494863382.0  \n",
       "1    621144021.0  \n",
       "2    364535342.0  \n",
       "3    835502456.0  \n",
       "4    223046645.0  "
      ]
     },
     "execution_count": 134,
     "metadata": {},
     "output_type": "execute_result"
    }
   ],
   "source": [
    "df1.head()"
   ]
  },
  {
   "cell_type": "code",
   "execution_count": null,
   "metadata": {},
   "outputs": [],
   "source": []
  }
 ],
 "metadata": {
  "kernelspec": {
   "display_name": "Python 3",
   "language": "python",
   "name": "python3"
  },
  "language_info": {
   "codemirror_mode": {
    "name": "ipython",
    "version": 3
   },
   "file_extension": ".py",
   "mimetype": "text/x-python",
   "name": "python",
   "nbconvert_exporter": "python",
   "pygments_lexer": "ipython3",
   "version": "3.7.6"
  }
 },
 "nbformat": 4,
 "nbformat_minor": 4
}
