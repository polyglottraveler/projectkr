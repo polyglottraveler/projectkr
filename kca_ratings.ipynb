{
 "cells": [
  {
   "cell_type": "code",
   "execution_count": 2,
   "metadata": {},
   "outputs": [],
   "source": [
    "import sqlite3\n",
    "import pandas as pd\n",
    "import matplotlib.pyplot as plt\n",
    "import numpy as np"
   ]
  },
  {
   "cell_type": "code",
   "execution_count": 27,
   "metadata": {},
   "outputs": [],
   "source": [
    "import mysql.connector\n",
    "\n",
    "con = mysql.connector.connect(user='hbs-student', password='super-secure-password?',\n",
    "                              host='hbs-ds-060120.c1doesqrid0e.us-east-1.rds.amazonaws.com',\n",
    "                              database='movies')\n",
    "cur = con.cursor()"
   ]
  },
  {
   "cell_type": "markdown",
   "metadata": {},
   "source": [
    "# Q1: How are tmdb ratings linked to revenue and profitability? (simplified)"
   ]
  },
  {
   "cell_type": "code",
   "execution_count": 39,
   "metadata": {},
   "outputs": [
    {
     "name": "stdout",
     "output_type": "stream",
     "text": [
      "<class 'pandas.core.frame.DataFrame'>\n",
      "RangeIndex: 2448 entries, 0 to 2447\n",
      "Data columns (total 6 columns):\n",
      " #   Column             Non-Null Count  Dtype  \n",
      "---  ------             --------------  -----  \n",
      " 0   title              2448 non-null   object \n",
      " 1   popularity         2448 non-null   float64\n",
      " 2   vote_average       2448 non-null   float64\n",
      " 3   production_budget  2448 non-null   int64  \n",
      " 4   domestic_gross     2448 non-null   object \n",
      " 5   worldwide_gross    2448 non-null   object \n",
      "dtypes: float64(2), int64(1), object(3)\n",
      "memory usage: 114.9+ KB\n"
     ]
    }
   ],
   "source": [
    "#simplified - only using 1 of the box office money\n",
    "query1=\"\"\"select title, popularity, vote_average, vote_count \n",
    "production_budget, domestic_gross, worldwide_gross\n",
    "from tmdb_movies join tn_movie_budgets on title=movie\"\"\"\n",
    "#cur.execute(query,con)\n",
    "#df=pd.DataFrame(cur.fetchall())\n",
    "#df.columns = [x[0] for x in cur.description()]\n",
    "#df\n",
    "df1 = pd.read_sql_query(query1, con)\n",
    "df1.head()\n",
    "df1.info()"
   ]
  },
  {
   "cell_type": "code",
   "execution_count": 8,
   "metadata": {},
   "outputs": [],
   "source": [
    "df1[df1.columns[3:]] = df1[df1.columns[3:]].replace('[\\$,]', '', regex=True).astype(float)"
   ]
  },
  {
   "cell_type": "code",
   "execution_count": 9,
   "metadata": {},
   "outputs": [],
   "source": [
    "df1['profitability'] = df1['worldwide_gross']-df1['production_budget']"
   ]
  },
  {
   "cell_type": "code",
   "execution_count": 10,
   "metadata": {},
   "outputs": [
    {
     "data": {
      "text/html": [
       "<div>\n",
       "<style scoped>\n",
       "    .dataframe tbody tr th:only-of-type {\n",
       "        vertical-align: middle;\n",
       "    }\n",
       "\n",
       "    .dataframe tbody tr th {\n",
       "        vertical-align: top;\n",
       "    }\n",
       "\n",
       "    .dataframe thead th {\n",
       "        text-align: right;\n",
       "    }\n",
       "</style>\n",
       "<table border=\"1\" class=\"dataframe\">\n",
       "  <thead>\n",
       "    <tr style=\"text-align: right;\">\n",
       "      <th></th>\n",
       "      <th>title</th>\n",
       "      <th>popularity</th>\n",
       "      <th>vote_average</th>\n",
       "      <th>production_budget</th>\n",
       "      <th>domestic_gross</th>\n",
       "      <th>worldwide_gross</th>\n",
       "      <th>profitability</th>\n",
       "    </tr>\n",
       "  </thead>\n",
       "  <tbody>\n",
       "    <tr>\n",
       "      <th>5</th>\n",
       "      <td>Avatar</td>\n",
       "      <td>26.526</td>\n",
       "      <td>7.4</td>\n",
       "      <td>18676.0</td>\n",
       "      <td>760507625.0</td>\n",
       "      <td>2.776345e+09</td>\n",
       "      <td>2.776327e+09</td>\n",
       "    </tr>\n",
       "    <tr>\n",
       "      <th>2240</th>\n",
       "      <td>Avengers: Infinity War</td>\n",
       "      <td>80.773</td>\n",
       "      <td>8.3</td>\n",
       "      <td>13948.0</td>\n",
       "      <td>678815482.0</td>\n",
       "      <td>2.048134e+09</td>\n",
       "      <td>2.048120e+09</td>\n",
       "    </tr>\n",
       "    <tr>\n",
       "      <th>1430</th>\n",
       "      <td>Jurassic World</td>\n",
       "      <td>20.709</td>\n",
       "      <td>6.6</td>\n",
       "      <td>14056.0</td>\n",
       "      <td>652270625.0</td>\n",
       "      <td>1.648855e+09</td>\n",
       "      <td>1.648841e+09</td>\n",
       "    </tr>\n",
       "    <tr>\n",
       "      <th>1433</th>\n",
       "      <td>Furious 7</td>\n",
       "      <td>20.396</td>\n",
       "      <td>7.3</td>\n",
       "      <td>6538.0</td>\n",
       "      <td>353007020.0</td>\n",
       "      <td>1.518723e+09</td>\n",
       "      <td>1.518716e+09</td>\n",
       "    </tr>\n",
       "    <tr>\n",
       "      <th>581</th>\n",
       "      <td>The Avengers</td>\n",
       "      <td>50.289</td>\n",
       "      <td>7.6</td>\n",
       "      <td>19673.0</td>\n",
       "      <td>623279547.0</td>\n",
       "      <td>1.517936e+09</td>\n",
       "      <td>1.517916e+09</td>\n",
       "    </tr>\n",
       "    <tr>\n",
       "      <th>...</th>\n",
       "      <td>...</td>\n",
       "      <td>...</td>\n",
       "      <td>...</td>\n",
       "      <td>...</td>\n",
       "      <td>...</td>\n",
       "      <td>...</td>\n",
       "      <td>...</td>\n",
       "    </tr>\n",
       "    <tr>\n",
       "      <th>1810</th>\n",
       "      <td>Hush</td>\n",
       "      <td>12.194</td>\n",
       "      <td>6.8</td>\n",
       "      <td>2147.0</td>\n",
       "      <td>0.0</td>\n",
       "      <td>0.000000e+00</td>\n",
       "      <td>-2.147000e+03</td>\n",
       "    </tr>\n",
       "    <tr>\n",
       "      <th>1487</th>\n",
       "      <td>Home</td>\n",
       "      <td>12.835</td>\n",
       "      <td>6.8</td>\n",
       "      <td>2372.0</td>\n",
       "      <td>0.0</td>\n",
       "      <td>0.000000e+00</td>\n",
       "      <td>-2.372000e+03</td>\n",
       "    </tr>\n",
       "    <tr>\n",
       "      <th>2071</th>\n",
       "      <td>Bright</td>\n",
       "      <td>15.677</td>\n",
       "      <td>6.2</td>\n",
       "      <td>3181.0</td>\n",
       "      <td>0.0</td>\n",
       "      <td>0.000000e+00</td>\n",
       "      <td>-3.181000e+03</td>\n",
       "    </tr>\n",
       "    <tr>\n",
       "      <th>2281</th>\n",
       "      <td>Bird Box</td>\n",
       "      <td>26.156</td>\n",
       "      <td>7.0</td>\n",
       "      <td>4777.0</td>\n",
       "      <td>0.0</td>\n",
       "      <td>0.000000e+00</td>\n",
       "      <td>-4.777000e+03</td>\n",
       "    </tr>\n",
       "    <tr>\n",
       "      <th>11</th>\n",
       "      <td>Alice in Wonderland</td>\n",
       "      <td>22.020</td>\n",
       "      <td>6.6</td>\n",
       "      <td>8713.0</td>\n",
       "      <td>0.0</td>\n",
       "      <td>0.000000e+00</td>\n",
       "      <td>-8.713000e+03</td>\n",
       "    </tr>\n",
       "  </tbody>\n",
       "</table>\n",
       "<p>2448 rows × 7 columns</p>\n",
       "</div>"
      ],
      "text/plain": [
       "                       title  popularity  vote_average  production_budget  \\\n",
       "5                     Avatar      26.526           7.4            18676.0   \n",
       "2240  Avengers: Infinity War      80.773           8.3            13948.0   \n",
       "1430          Jurassic World      20.709           6.6            14056.0   \n",
       "1433               Furious 7      20.396           7.3             6538.0   \n",
       "581             The Avengers      50.289           7.6            19673.0   \n",
       "...                      ...         ...           ...                ...   \n",
       "1810                    Hush      12.194           6.8             2147.0   \n",
       "1487                    Home      12.835           6.8             2372.0   \n",
       "2071                  Bright      15.677           6.2             3181.0   \n",
       "2281                Bird Box      26.156           7.0             4777.0   \n",
       "11       Alice in Wonderland      22.020           6.6             8713.0   \n",
       "\n",
       "      domestic_gross  worldwide_gross  profitability  \n",
       "5        760507625.0     2.776345e+09   2.776327e+09  \n",
       "2240     678815482.0     2.048134e+09   2.048120e+09  \n",
       "1430     652270625.0     1.648855e+09   1.648841e+09  \n",
       "1433     353007020.0     1.518723e+09   1.518716e+09  \n",
       "581      623279547.0     1.517936e+09   1.517916e+09  \n",
       "...              ...              ...            ...  \n",
       "1810             0.0     0.000000e+00  -2.147000e+03  \n",
       "1487             0.0     0.000000e+00  -2.372000e+03  \n",
       "2071             0.0     0.000000e+00  -3.181000e+03  \n",
       "2281             0.0     0.000000e+00  -4.777000e+03  \n",
       "11               0.0     0.000000e+00  -8.713000e+03  \n",
       "\n",
       "[2448 rows x 7 columns]"
      ]
     },
     "execution_count": 10,
     "metadata": {},
     "output_type": "execute_result"
    }
   ],
   "source": [
    "df1.sort_values(by=['profitability'],ascending=False)"
   ]
  },
  {
   "cell_type": "code",
   "execution_count": 15,
   "metadata": {},
   "outputs": [
    {
     "data": {
      "text/plain": [
       "Text(0, 0.5, 'profitability')"
      ]
     },
     "execution_count": 15,
     "metadata": {},
     "output_type": "execute_result"
    },
    {
     "data": {
      "image/png": "[encoded data removed]",
      "text/plain": [
       "<Figure size 432x288 with 1 Axes>"
      ]
     },
     "metadata": {
      "needs_background": "light"
     },
     "output_type": "display_data"
    }
   ],
   "source": [
    "plt.scatter(df1['vote_average'],df1['profitability'])\n",
    "plt.title('Vote Average vs Profitability')\n",
    "plt.xlabel('vote average')\n",
    "plt.ylabel('profitability')"
   ]
  },
  {
   "cell_type": "markdown",
   "metadata": {},
   "source": [
    "Q6: Are ratings and popularity well correlated?\n"
   ]
  },
  {
   "cell_type": "code",
   "execution_count": 10,
   "metadata": {
    "scrolled": true
   },
   "outputs": [
    {
     "data": {
      "image/png": "[encoded data removed]",
      "text/plain": [
       "<Figure size 432x288 with 1 Axes>"
      ]
     },
     "metadata": {
      "needs_background": "light"
     },
     "output_type": "display_data"
    }
   ],
   "source": [
    "query= \"\"\"SELECT DISTINCT\n",
    "    id, popularity, vote_average\n",
    "FROM\n",
    "    tmdb_movies\n",
    "WHERE\n",
    "    vote_average > 0 AND vote_Average < 10\n",
    "        AND popularity > 0\n",
    "        AND popularity < 50\n",
    "ORDER BY popularity , vote_average\"\"\"\n",
    "df_tmdb_ratings = pd.read_sql_query(query, con)\n",
    "plt.scatter(df_tmdb_ratings['vote_average'],df_tmdb_ratings['popularity'])\n",
    "plt.title('Vote Average vs popularity')\n",
    "plt.xlabel('vote average')\n",
    "plt.ylabel('popularity')\n",
    "plt.show()\n",
    "#some correlation"
   ]
  },
  {
   "cell_type": "code",
   "execution_count": null,
   "metadata": {},
   "outputs": [],
   "source": [
    "# Q6: Are tmdb ratings and rt ratings well correlated?\n",
    "#no way to tell because no link between rt and imdb other than writer and director name"
   ]
  },
  {
   "cell_type": "markdown",
   "metadata": {},
   "source": [
    "Q7: Do tmdb ratings indicate success?"
   ]
  },
  {
   "cell_type": "code",
   "execution_count": 42,
   "metadata": {
    "scrolled": true
   },
   "outputs": [
    {
     "data": {
      "text/plain": [
       "(7859, 6)"
      ]
     },
     "execution_count": 42,
     "metadata": {},
     "output_type": "execute_result"
    }
   ],
   "source": [
    "df_rev = pd.read_csv('joined_revenue')\n",
    "df_rev.shape"
   ]
  },
  {
   "cell_type": "code",
   "execution_count": 43,
   "metadata": {},
   "outputs": [
    {
     "data": {
      "text/html": [
       "<div>\n",
       "<style scoped>\n",
       "    .dataframe tbody tr th:only-of-type {\n",
       "        vertical-align: middle;\n",
       "    }\n",
       "\n",
       "    .dataframe tbody tr th {\n",
       "        vertical-align: top;\n",
       "    }\n",
       "\n",
       "    .dataframe thead th {\n",
       "        text-align: right;\n",
       "    }\n",
       "</style>\n",
       "<table border=\"1\" class=\"dataframe\">\n",
       "  <thead>\n",
       "    <tr style=\"text-align: right;\">\n",
       "      <th></th>\n",
       "      <th>Unnamed: 0</th>\n",
       "      <th>movie_title</th>\n",
       "      <th>production_budget</th>\n",
       "      <th>domestic_gross</th>\n",
       "      <th>worldwide_gross</th>\n",
       "      <th>release_year</th>\n",
       "    </tr>\n",
       "  </thead>\n",
       "  <tbody>\n",
       "    <tr>\n",
       "      <th>0</th>\n",
       "      <td>0</td>\n",
       "      <td>High Fidelity</td>\n",
       "      <td>20000000.0</td>\n",
       "      <td>27277055.0</td>\n",
       "      <td>47881663.0</td>\n",
       "      <td>2000.0</td>\n",
       "    </tr>\n",
       "    <tr>\n",
       "      <th>1</th>\n",
       "      <td>1</td>\n",
       "      <td>San suk si gin</td>\n",
       "      <td>15000000.0</td>\n",
       "      <td>0.0</td>\n",
       "      <td>2013340.0</td>\n",
       "      <td>2010.0</td>\n",
       "    </tr>\n",
       "    <tr>\n",
       "      <th>2</th>\n",
       "      <td>2</td>\n",
       "      <td>The Betrayed</td>\n",
       "      <td>3500000.0</td>\n",
       "      <td>0.0</td>\n",
       "      <td>0.0</td>\n",
       "      <td>2009.0</td>\n",
       "    </tr>\n",
       "    <tr>\n",
       "      <th>3</th>\n",
       "      <td>3</td>\n",
       "      <td>Stardust</td>\n",
       "      <td>70000000.0</td>\n",
       "      <td>38634938.0</td>\n",
       "      <td>137022245.0</td>\n",
       "      <td>2007.0</td>\n",
       "    </tr>\n",
       "    <tr>\n",
       "      <th>4</th>\n",
       "      <td>4</td>\n",
       "      <td>Friday the 13th Part 2</td>\n",
       "      <td>1250000.0</td>\n",
       "      <td>21722776.0</td>\n",
       "      <td>21722776.0</td>\n",
       "      <td>1981.0</td>\n",
       "    </tr>\n",
       "  </tbody>\n",
       "</table>\n",
       "</div>"
      ],
      "text/plain": [
       "   Unnamed: 0             movie_title  production_budget  domestic_gross  \\\n",
       "0           0           High Fidelity         20000000.0      27277055.0   \n",
       "1           1          San suk si gin         15000000.0             0.0   \n",
       "2           2            The Betrayed          3500000.0             0.0   \n",
       "3           3                Stardust         70000000.0      38634938.0   \n",
       "4           4  Friday the 13th Part 2          1250000.0      21722776.0   \n",
       "\n",
       "   worldwide_gross  release_year  \n",
       "0       47881663.0        2000.0  \n",
       "1        2013340.0        2010.0  \n",
       "2              0.0        2009.0  \n",
       "3      137022245.0        2007.0  \n",
       "4       21722776.0        1981.0  "
      ]
     },
     "execution_count": 43,
     "metadata": {},
     "output_type": "execute_result"
    }
   ],
   "source": [
    "df_rev.head()"
   ]
  },
  {
   "cell_type": "code",
   "execution_count": 28,
   "metadata": {},
   "outputs": [],
   "source": [
    "query3= \"\"\"SELECT DISTINCT title, popularity, vote_average, year(release_date) as year_release\n",
    "FROM\n",
    "    tmdb_movies\n",
    "WHERE\n",
    "    vote_average > 0 AND vote_Average < 10\n",
    "        AND popularity > 0\n",
    "        AND popularity < 50\n",
    "ORDER BY popularity , vote_average\"\"\"\n",
    "#remove outliers\n",
    "df_tmdb_ratings = pd.read_sql_query(query3, con)\n",
    "#popularity is an algorithm that spits out combo of votes, rate, etc to determine how popular \n",
    "#movie is right now - votes are building block"
   ]
  },
  {
   "cell_type": "code",
   "execution_count": 24,
   "metadata": {},
   "outputs": [
    {
     "data": {
      "text/html": [
       "<div>\n",
       "<style scoped>\n",
       "    .dataframe tbody tr th:only-of-type {\n",
       "        vertical-align: middle;\n",
       "    }\n",
       "\n",
       "    .dataframe tbody tr th {\n",
       "        vertical-align: top;\n",
       "    }\n",
       "\n",
       "    .dataframe thead th {\n",
       "        text-align: right;\n",
       "    }\n",
       "</style>\n",
       "<table border=\"1\" class=\"dataframe\">\n",
       "  <thead>\n",
       "    <tr style=\"text-align: right;\">\n",
       "      <th></th>\n",
       "      <th>title</th>\n",
       "      <th>popularity</th>\n",
       "      <th>vote_average</th>\n",
       "      <th>year_release</th>\n",
       "    </tr>\n",
       "  </thead>\n",
       "  <tbody>\n",
       "    <tr>\n",
       "      <th>0</th>\n",
       "      <td>Air</td>\n",
       "      <td>0.6</td>\n",
       "      <td>0.5</td>\n",
       "      <td>2014</td>\n",
       "    </tr>\n",
       "    <tr>\n",
       "      <th>1</th>\n",
       "      <td>All Ages: The Boston Hardcore Film</td>\n",
       "      <td>0.6</td>\n",
       "      <td>0.5</td>\n",
       "      <td>2012</td>\n",
       "    </tr>\n",
       "    <tr>\n",
       "      <th>2</th>\n",
       "      <td>American Marriage</td>\n",
       "      <td>0.6</td>\n",
       "      <td>0.5</td>\n",
       "      <td>2012</td>\n",
       "    </tr>\n",
       "    <tr>\n",
       "      <th>3</th>\n",
       "      <td>Beyond Food</td>\n",
       "      <td>0.6</td>\n",
       "      <td>0.5</td>\n",
       "      <td>2017</td>\n",
       "    </tr>\n",
       "    <tr>\n",
       "      <th>4</th>\n",
       "      <td>Chihuahua too!</td>\n",
       "      <td>0.6</td>\n",
       "      <td>0.5</td>\n",
       "      <td>2013</td>\n",
       "    </tr>\n",
       "  </tbody>\n",
       "</table>\n",
       "</div>"
      ],
      "text/plain": [
       "                                title  popularity  vote_average  year_release\n",
       "0                                 Air         0.6           0.5          2014\n",
       "1  All Ages: The Boston Hardcore Film         0.6           0.5          2012\n",
       "2                   American Marriage         0.6           0.5          2012\n",
       "3                         Beyond Food         0.6           0.5          2017\n",
       "4                      Chihuahua too!         0.6           0.5          2013"
      ]
     },
     "execution_count": 24,
     "metadata": {},
     "output_type": "execute_result"
    }
   ],
   "source": [
    "df_tmdb_ratings.head()"
   ]
  },
  {
   "cell_type": "code",
   "execution_count": 44,
   "metadata": {},
   "outputs": [],
   "source": [
    "df_rev.drop(df_rev[df_rev['movie_title'] == 'Avatar'].index, inplace = True)\n",
    "#drop avatar because it skews this"
   ]
  },
  {
   "cell_type": "code",
   "execution_count": 45,
   "metadata": {},
   "outputs": [
    {
     "data": {
      "text/plain": [
       "(7858, 6)"
      ]
     },
     "execution_count": 45,
     "metadata": {},
     "output_type": "execute_result"
    }
   ],
   "source": [
    "df_rev.shape"
   ]
  },
  {
   "cell_type": "code",
   "execution_count": 46,
   "metadata": {
    "scrolled": true
   },
   "outputs": [],
   "source": [
    "df_tmdb_ratings_rev = df_tmdb_ratings.merge(df_rev,how='inner',left_on=['title','year_release'], right_on=['movie_title','release_year'])"
   ]
  },
  {
   "cell_type": "code",
   "execution_count": 61,
   "metadata": {},
   "outputs": [],
   "source": [
    "df_tmdb_ratings_top100=df_tmdb_ratings_rev.nlargest(100,['vote_average'])"
   ]
  },
  {
   "cell_type": "code",
   "execution_count": 54,
   "metadata": {},
   "outputs": [],
   "source": [
    "df_rev_top100=df_tmdb_ratings_rev.nlargest(100,['worldwide_gross'])"
   ]
  },
  {
   "cell_type": "code",
   "execution_count": 69,
   "metadata": {
    "scrolled": false
   },
   "outputs": [
    {
     "data": {
      "text/plain": [
       "Text(0, 0.5, 'WW Gross Rev')"
      ]
     },
     "execution_count": 69,
     "metadata": {},
     "output_type": "execute_result"
    },
    {
     "data": {
      "image/png": "[encoded data removed]",
      "text/plain": [
       "<Figure size 432x288 with 1 Axes>"
      ]
     },
     "metadata": {
      "needs_background": "light"
     },
     "output_type": "display_data"
    }
   ],
   "source": [
    "plt.scatter(df_tmdb_ratings_rev['vote_average'],df_tmdb_ratings_rev['worldwide_gross'])\n",
    "plt.scatter( df_tmdb_ratings_top100['vote_average'],df_tmdb_ratings_top100['worldwide_gross'], c='r',label='Top vote')\n",
    "plt.scatter(df_rev_top100['vote_average'],df_rev_top100['worldwide_gross'], c='y', label='Top WW gross')\n",
    "plt.scatter(vote_overlap['vote_average'],vote_overlap['worldwide_gross'],c='g', label = 'overlap')\n",
    "plt.legend()\n",
    "plt.title('Vote Average vs WW Gross Rev')\n",
    "plt.xlabel('vote average')\n",
    "plt.ylabel('WW Gross Rev')"
   ]
  },
  {
   "cell_type": "code",
   "execution_count": 58,
   "metadata": {},
   "outputs": [
    {
     "data": {
      "text/html": [
       "<div>\n",
       "<style scoped>\n",
       "    .dataframe tbody tr th:only-of-type {\n",
       "        vertical-align: middle;\n",
       "    }\n",
       "\n",
       "    .dataframe tbody tr th {\n",
       "        vertical-align: top;\n",
       "    }\n",
       "\n",
       "    .dataframe thead th {\n",
       "        text-align: right;\n",
       "    }\n",
       "</style>\n",
       "<table border=\"1\" class=\"dataframe\">\n",
       "  <thead>\n",
       "    <tr style=\"text-align: right;\">\n",
       "      <th></th>\n",
       "      <th>title</th>\n",
       "      <th>popularity</th>\n",
       "      <th>vote_average</th>\n",
       "      <th>year_release</th>\n",
       "      <th>Unnamed: 0</th>\n",
       "      <th>movie_title</th>\n",
       "      <th>production_budget</th>\n",
       "      <th>domestic_gross</th>\n",
       "      <th>worldwide_gross</th>\n",
       "      <th>release_year</th>\n",
       "    </tr>\n",
       "  </thead>\n",
       "  <tbody>\n",
       "    <tr>\n",
       "      <th>2522</th>\n",
       "      <td>Avengers: Age of Ultron</td>\n",
       "      <td>44.383</td>\n",
       "      <td>7.3</td>\n",
       "      <td>2015</td>\n",
       "      <td>7880</td>\n",
       "      <td>Avengers: Age of Ultron</td>\n",
       "      <td>330600000.0</td>\n",
       "      <td>459000000.0</td>\n",
       "      <td>1.405400e+09</td>\n",
       "      <td>2015.0</td>\n",
       "    </tr>\n",
       "    <tr>\n",
       "      <th>2521</th>\n",
       "      <td>Black Panther</td>\n",
       "      <td>44.140</td>\n",
       "      <td>7.4</td>\n",
       "      <td>2018</td>\n",
       "      <td>7889</td>\n",
       "      <td>Black Panther</td>\n",
       "      <td>200000000.0</td>\n",
       "      <td>700100000.0</td>\n",
       "      <td>1.347000e+09</td>\n",
       "      <td>2018.0</td>\n",
       "    </tr>\n",
       "    <tr>\n",
       "      <th>2501</th>\n",
       "      <td>Star Wars: The Last Jedi</td>\n",
       "      <td>34.293</td>\n",
       "      <td>7.0</td>\n",
       "      <td>2017</td>\n",
       "      <td>7885</td>\n",
       "      <td>Star Wars: The Last Jedi</td>\n",
       "      <td>NaN</td>\n",
       "      <td>620200000.0</td>\n",
       "      <td>1.332600e+09</td>\n",
       "      <td>2017.0</td>\n",
       "    </tr>\n",
       "    <tr>\n",
       "      <th>2503</th>\n",
       "      <td>Jurassic World: Fallen Kingdom</td>\n",
       "      <td>34.958</td>\n",
       "      <td>6.5</td>\n",
       "      <td>2018</td>\n",
       "      <td>7877</td>\n",
       "      <td>Jurassic World: Fallen Kingdom</td>\n",
       "      <td>170000000.0</td>\n",
       "      <td>417700000.0</td>\n",
       "      <td>1.309500e+09</td>\n",
       "      <td>2018.0</td>\n",
       "    </tr>\n",
       "    <tr>\n",
       "      <th>2433</th>\n",
       "      <td>Frozen</td>\n",
       "      <td>26.183</td>\n",
       "      <td>7.3</td>\n",
       "      <td>2013</td>\n",
       "      <td>7870</td>\n",
       "      <td>Frozen</td>\n",
       "      <td>150000000.0</td>\n",
       "      <td>400700000.0</td>\n",
       "      <td>1.276400e+09</td>\n",
       "      <td>2013.0</td>\n",
       "    </tr>\n",
       "  </tbody>\n",
       "</table>\n",
       "</div>"
      ],
      "text/plain": [
       "                               title  popularity  vote_average  year_release  \\\n",
       "2522         Avengers: Age of Ultron      44.383           7.3          2015   \n",
       "2521                   Black Panther      44.140           7.4          2018   \n",
       "2501        Star Wars: The Last Jedi      34.293           7.0          2017   \n",
       "2503  Jurassic World: Fallen Kingdom      34.958           6.5          2018   \n",
       "2433                          Frozen      26.183           7.3          2013   \n",
       "\n",
       "      Unnamed: 0                     movie_title  production_budget  \\\n",
       "2522        7880         Avengers: Age of Ultron        330600000.0   \n",
       "2521        7889                   Black Panther        200000000.0   \n",
       "2501        7885        Star Wars: The Last Jedi                NaN   \n",
       "2503        7877  Jurassic World: Fallen Kingdom        170000000.0   \n",
       "2433        7870                          Frozen        150000000.0   \n",
       "\n",
       "      domestic_gross  worldwide_gross  release_year  \n",
       "2522     459000000.0     1.405400e+09        2015.0  \n",
       "2521     700100000.0     1.347000e+09        2018.0  \n",
       "2501     620200000.0     1.332600e+09        2017.0  \n",
       "2503     417700000.0     1.309500e+09        2018.0  \n",
       "2433     400700000.0     1.276400e+09        2013.0  "
      ]
     },
     "execution_count": 58,
     "metadata": {},
     "output_type": "execute_result"
    }
   ],
   "source": [
    "df_rev_top100.head()"
   ]
  },
  {
   "cell_type": "code",
   "execution_count": 67,
   "metadata": {},
   "outputs": [],
   "source": [
    "vote_overlap = df_tmdb_ratings_top100.merge(df_rev_top100, how='inner' )\n",
    "#only 7% overlap between high reveneue and ratings - not great"
   ]
  },
  {
   "cell_type": "code",
   "execution_count": 73,
   "metadata": {},
   "outputs": [
    {
     "data": {
      "text/plain": [
       "(7, 10)"
      ]
     },
     "execution_count": 73,
     "metadata": {},
     "output_type": "execute_result"
    }
   ],
   "source": [
    "vote_overlap.shape"
   ]
  },
  {
   "cell_type": "code",
   "execution_count": 62,
   "metadata": {},
   "outputs": [],
   "source": [
    "df_tmdb_popularity_top100=df_tmdb_ratings_rev.nlargest(100,['popularity'])"
   ]
  },
  {
   "cell_type": "code",
   "execution_count": 71,
   "metadata": {},
   "outputs": [
    {
     "data": {
      "text/plain": [
       "Text(0, 0.5, 'WW Gross Rev')"
      ]
     },
     "execution_count": 71,
     "metadata": {},
     "output_type": "execute_result"
    },
    {
     "data": {
      "image/png": "[encoded data removed]",
      "text/plain": [
       "<Figure size 432x288 with 1 Axes>"
      ]
     },
     "metadata": {
      "needs_background": "light"
     },
     "output_type": "display_data"
    }
   ],
   "source": [
    "plt.scatter(df_tmdb_ratings_rev['popularity'],df_tmdb_ratings_rev['worldwide_gross'])\n",
    "plt.scatter(df_tmdb_popularity_top100['popularity'], df_tmdb_popularity_top100['worldwide_gross'], c='r', label='Most Popular')\n",
    "plt.scatter(df_rev_top100['popularity'],df_rev_top100['worldwide_gross'], c='y', label='Top WW gross')\n",
    "plt.scatter(popularity_overlap['popularity'], popularity_overlap['worldwide_gross'], c='g', label='overlap')\n",
    "plt.legend()\n",
    "plt.title('Popularity vs WW Gross Rev')\n",
    "plt.xlabel('Popularity')\n",
    "plt.ylabel('WW Gross Rev')"
   ]
  },
  {
   "cell_type": "code",
   "execution_count": 72,
   "metadata": {},
   "outputs": [
    {
     "data": {
      "text/plain": [
       "(49, 10)"
      ]
     },
     "execution_count": 72,
     "metadata": {},
     "output_type": "execute_result"
    }
   ],
   "source": [
    "popularity_overlap = df_tmdb_popularity_top100.merge(df_rev_top100, how='inner' )\n",
    "# much higher correlation\n",
    "popularity_overlap.shape"
   ]
  },
  {
   "cell_type": "code",
   "execution_count": 86,
   "metadata": {},
   "outputs": [],
   "source": [
    "popularity_overlap_title=list(popularity_overlap['title'])"
   ]
  },
  {
   "cell_type": "code",
   "execution_count": 87,
   "metadata": {
    "scrolled": true
   },
   "outputs": [],
   "source": [
    "popularity_overlap_title_cat=['Marvel',\n",
    "'Harry Potter',\n",
    "'Marvel',\n",
    "'Marvel',\n",
    "'Marvel',\n",
    "'Marvel',\n",
    "'Marvel',\n",
    "'Marvel',\n",
    "'Marvel',\n",
    "'Marvel',\n",
    "'Marvel',\n",
    "'Marvel',\n",
    "'Marvel',\n",
    "'DC Comics',\n",
    "'Bohemian Rhapsody',\n",
    "'Disney Animation',\n",
    "'Disney Animation',\n",
    "'Marvel',\n",
    "'Jurassic Park',\n",
    "'DC Comics',\n",
    "'Star Wars',\n",
    "'Hunger Games',\n",
    "'Marvel',\n",
    "'Star Wars',\n",
    "'Hangover',\n",
    "'Marvel',\n",
    "'Disney Animation',\n",
    "'DC Comics',\n",
    "'Marvel',\n",
    "'Pirates of the Caribbean',\n",
    "'James Bond',\n",
    "'Ready Plater One',\n",
    "'Mission Impossible',\n",
    "'King Kong',\n",
    "'Disney Animation',\n",
    "'Marvel',\n",
    "'Interstellar',\n",
    "'Pirates of the Caribbean',\n",
    "'DC Comics',\n",
    "'Inception',\n",
    "'Gravity',\n",
    "'DC Comics',\n",
    "'Planet of the Apes ',\n",
    "'Disney Animation',\n",
    "'Dreamworks',\n",
    "'Lord of the Rings',\n",
    "'DC Comics',\n",
    "'Disney Animation',\n",
    "'Marvel',]"
   ]
  },
  {
   "cell_type": "code",
   "execution_count": 135,
   "metadata": {},
   "outputs": [],
   "source": [
    "count=[1,\n",
    "1,\n",
    "1,\n",
    "1,\n",
    "1,\n",
    "1,\n",
    "1,\n",
    "1,\n",
    "1,\n",
    "1,\n",
    "1,\n",
    "1,\n",
    "1,\n",
    "1,\n",
    "1,\n",
    "1,\n",
    "1,\n",
    "1,\n",
    "1,\n",
    "1,\n",
    "1,\n",
    "1,\n",
    "1,\n",
    "1,\n",
    "1,\n",
    "1,\n",
    "1,\n",
    "1,\n",
    "1,\n",
    "1,\n",
    "1,\n",
    "1,\n",
    "1,\n",
    "1,\n",
    "1,\n",
    "1,\n",
    "1,\n",
    "1,\n",
    "1,\n",
    "1,\n",
    "1,\n",
    "1,\n",
    "1,\n",
    "1,\n",
    "1,\n",
    "1,\n",
    "1,\n",
    "1,\n",
    "1,]"
   ]
  },
  {
   "cell_type": "code",
   "execution_count": 136,
   "metadata": {},
   "outputs": [
    {
     "data": {
      "text/html": [
       "<div>\n",
       "<style scoped>\n",
       "    .dataframe tbody tr th:only-of-type {\n",
       "        vertical-align: middle;\n",
       "    }\n",
       "\n",
       "    .dataframe tbody tr th {\n",
       "        vertical-align: top;\n",
       "    }\n",
       "\n",
       "    .dataframe thead th {\n",
       "        text-align: right;\n",
       "    }\n",
       "</style>\n",
       "<table border=\"1\" class=\"dataframe\">\n",
       "  <thead>\n",
       "    <tr style=\"text-align: right;\">\n",
       "      <th></th>\n",
       "      <th>popularity_overlap_title</th>\n",
       "      <th>popularity_overlap_title_cat</th>\n",
       "      <th>count</th>\n",
       "    </tr>\n",
       "  </thead>\n",
       "  <tbody>\n",
       "    <tr>\n",
       "      <th>0</th>\n",
       "      <td>Guardians of the Galaxy</td>\n",
       "      <td>Marvel</td>\n",
       "      <td>1</td>\n",
       "    </tr>\n",
       "    <tr>\n",
       "      <th>1</th>\n",
       "      <td>Fantastic Beasts: The Crimes of Grindelwald</td>\n",
       "      <td>Harry Potter</td>\n",
       "      <td>1</td>\n",
       "    </tr>\n",
       "    <tr>\n",
       "      <th>2</th>\n",
       "      <td>Spider-Man: Homecoming</td>\n",
       "      <td>Marvel</td>\n",
       "      <td>1</td>\n",
       "    </tr>\n",
       "    <tr>\n",
       "      <th>3</th>\n",
       "      <td>Logan</td>\n",
       "      <td>Marvel</td>\n",
       "      <td>1</td>\n",
       "    </tr>\n",
       "    <tr>\n",
       "      <th>4</th>\n",
       "      <td>Ant-Man and the Wasp</td>\n",
       "      <td>Marvel</td>\n",
       "      <td>1</td>\n",
       "    </tr>\n",
       "  </tbody>\n",
       "</table>\n",
       "</div>"
      ],
      "text/plain": [
       "                      popularity_overlap_title popularity_overlap_title_cat  \\\n",
       "0                      Guardians of the Galaxy                       Marvel   \n",
       "1  Fantastic Beasts: The Crimes of Grindelwald                 Harry Potter   \n",
       "2                       Spider-Man: Homecoming                       Marvel   \n",
       "3                                        Logan                       Marvel   \n",
       "4                         Ant-Man and the Wasp                       Marvel   \n",
       "\n",
       "   count  \n",
       "0      1  \n",
       "1      1  \n",
       "2      1  \n",
       "3      1  \n",
       "4      1  "
      ]
     },
     "execution_count": 136,
     "metadata": {},
     "output_type": "execute_result"
    }
   ],
   "source": [
    "popularity_overlap={'popularity_overlap_title':popularity_overlap_title,'popularity_overlap_title_cat':popularity_overlap_title_cat,'count':count}\n",
    "popularity_overlap=pd.DataFrame(popularity_overlap)\n",
    "popularity_overlap.head()"
   ]
  },
  {
   "cell_type": "code",
   "execution_count": 139,
   "metadata": {},
   "outputs": [],
   "source": [
    "popularity_overlap_count = popularity_overlap.groupby(['popularity_overlap_title_cat']).sum().sort_values(by=['count'], ascending = False)"
   ]
  },
  {
   "cell_type": "code",
   "execution_count": 140,
   "metadata": {},
   "outputs": [
    {
     "data": {
      "text/html": [
       "<div>\n",
       "<style scoped>\n",
       "    .dataframe tbody tr th:only-of-type {\n",
       "        vertical-align: middle;\n",
       "    }\n",
       "\n",
       "    .dataframe tbody tr th {\n",
       "        vertical-align: top;\n",
       "    }\n",
       "\n",
       "    .dataframe thead th {\n",
       "        text-align: right;\n",
       "    }\n",
       "</style>\n",
       "<table border=\"1\" class=\"dataframe\">\n",
       "  <thead>\n",
       "    <tr style=\"text-align: right;\">\n",
       "      <th></th>\n",
       "      <th>count</th>\n",
       "    </tr>\n",
       "    <tr>\n",
       "      <th>popularity_overlap_title_cat</th>\n",
       "      <th></th>\n",
       "    </tr>\n",
       "  </thead>\n",
       "  <tbody>\n",
       "    <tr>\n",
       "      <th>Marvel</th>\n",
       "      <td>18</td>\n",
       "    </tr>\n",
       "    <tr>\n",
       "      <th>Disney Animation</th>\n",
       "      <td>6</td>\n",
       "    </tr>\n",
       "    <tr>\n",
       "      <th>DC Comics</th>\n",
       "      <td>6</td>\n",
       "    </tr>\n",
       "    <tr>\n",
       "      <th>Star Wars</th>\n",
       "      <td>2</td>\n",
       "    </tr>\n",
       "    <tr>\n",
       "      <th>Pirates of the Caribbean</th>\n",
       "      <td>2</td>\n",
       "    </tr>\n",
       "    <tr>\n",
       "      <th>Jurassic Park</th>\n",
       "      <td>1</td>\n",
       "    </tr>\n",
       "    <tr>\n",
       "      <th>Ready Plater One</th>\n",
       "      <td>1</td>\n",
       "    </tr>\n",
       "    <tr>\n",
       "      <th>Planet of the Apes</th>\n",
       "      <td>1</td>\n",
       "    </tr>\n",
       "    <tr>\n",
       "      <th>Mission Impossible</th>\n",
       "      <td>1</td>\n",
       "    </tr>\n",
       "    <tr>\n",
       "      <th>Lord of the Rings</th>\n",
       "      <td>1</td>\n",
       "    </tr>\n",
       "    <tr>\n",
       "      <th>King Kong</th>\n",
       "      <td>1</td>\n",
       "    </tr>\n",
       "    <tr>\n",
       "      <th>Bohemian Rhapsody</th>\n",
       "      <td>1</td>\n",
       "    </tr>\n",
       "    <tr>\n",
       "      <th>Interstellar</th>\n",
       "      <td>1</td>\n",
       "    </tr>\n",
       "    <tr>\n",
       "      <th>Inception</th>\n",
       "      <td>1</td>\n",
       "    </tr>\n",
       "    <tr>\n",
       "      <th>Hunger Games</th>\n",
       "      <td>1</td>\n",
       "    </tr>\n",
       "    <tr>\n",
       "      <th>Harry Potter</th>\n",
       "      <td>1</td>\n",
       "    </tr>\n",
       "    <tr>\n",
       "      <th>Hangover</th>\n",
       "      <td>1</td>\n",
       "    </tr>\n",
       "    <tr>\n",
       "      <th>Gravity</th>\n",
       "      <td>1</td>\n",
       "    </tr>\n",
       "    <tr>\n",
       "      <th>Dreamworks</th>\n",
       "      <td>1</td>\n",
       "    </tr>\n",
       "    <tr>\n",
       "      <th>James Bond</th>\n",
       "      <td>1</td>\n",
       "    </tr>\n",
       "  </tbody>\n",
       "</table>\n",
       "</div>"
      ],
      "text/plain": [
       "                              count\n",
       "popularity_overlap_title_cat       \n",
       "Marvel                           18\n",
       "Disney Animation                  6\n",
       "DC Comics                         6\n",
       "Star Wars                         2\n",
       "Pirates of the Caribbean          2\n",
       "Jurassic Park                     1\n",
       "Ready Plater One                  1\n",
       "Planet of the Apes                1\n",
       "Mission Impossible                1\n",
       "Lord of the Rings                 1\n",
       "King Kong                         1\n",
       "Bohemian Rhapsody                 1\n",
       "Interstellar                      1\n",
       "Inception                         1\n",
       "Hunger Games                      1\n",
       "Harry Potter                      1\n",
       "Hangover                          1\n",
       "Gravity                           1\n",
       "Dreamworks                        1\n",
       "James Bond                        1"
      ]
     },
     "execution_count": 140,
     "metadata": {},
     "output_type": "execute_result"
    }
   ],
   "source": [
    "popularity_overlap_count"
   ]
  },
  {
   "cell_type": "code",
   "execution_count": 143,
   "metadata": {},
   "outputs": [],
   "source": [
    "popularity_overlap_count=popularity_overlap_count.reset_index()"
   ]
  },
  {
   "cell_type": "code",
   "execution_count": 144,
   "metadata": {},
   "outputs": [
    {
     "data": {
      "text/html": [
       "<div>\n",
       "<style scoped>\n",
       "    .dataframe tbody tr th:only-of-type {\n",
       "        vertical-align: middle;\n",
       "    }\n",
       "\n",
       "    .dataframe tbody tr th {\n",
       "        vertical-align: top;\n",
       "    }\n",
       "\n",
       "    .dataframe thead th {\n",
       "        text-align: right;\n",
       "    }\n",
       "</style>\n",
       "<table border=\"1\" class=\"dataframe\">\n",
       "  <thead>\n",
       "    <tr style=\"text-align: right;\">\n",
       "      <th></th>\n",
       "      <th>popularity_overlap_title_cat</th>\n",
       "      <th>count</th>\n",
       "    </tr>\n",
       "  </thead>\n",
       "  <tbody>\n",
       "    <tr>\n",
       "      <th>0</th>\n",
       "      <td>Marvel</td>\n",
       "      <td>18</td>\n",
       "    </tr>\n",
       "    <tr>\n",
       "      <th>1</th>\n",
       "      <td>Disney Animation</td>\n",
       "      <td>6</td>\n",
       "    </tr>\n",
       "    <tr>\n",
       "      <th>2</th>\n",
       "      <td>DC Comics</td>\n",
       "      <td>6</td>\n",
       "    </tr>\n",
       "    <tr>\n",
       "      <th>3</th>\n",
       "      <td>Star Wars</td>\n",
       "      <td>2</td>\n",
       "    </tr>\n",
       "    <tr>\n",
       "      <th>4</th>\n",
       "      <td>Pirates of the Caribbean</td>\n",
       "      <td>2</td>\n",
       "    </tr>\n",
       "    <tr>\n",
       "      <th>5</th>\n",
       "      <td>Jurassic Park</td>\n",
       "      <td>1</td>\n",
       "    </tr>\n",
       "    <tr>\n",
       "      <th>6</th>\n",
       "      <td>Ready Plater One</td>\n",
       "      <td>1</td>\n",
       "    </tr>\n",
       "    <tr>\n",
       "      <th>7</th>\n",
       "      <td>Planet of the Apes</td>\n",
       "      <td>1</td>\n",
       "    </tr>\n",
       "    <tr>\n",
       "      <th>8</th>\n",
       "      <td>Mission Impossible</td>\n",
       "      <td>1</td>\n",
       "    </tr>\n",
       "    <tr>\n",
       "      <th>9</th>\n",
       "      <td>Lord of the Rings</td>\n",
       "      <td>1</td>\n",
       "    </tr>\n",
       "    <tr>\n",
       "      <th>10</th>\n",
       "      <td>King Kong</td>\n",
       "      <td>1</td>\n",
       "    </tr>\n",
       "    <tr>\n",
       "      <th>11</th>\n",
       "      <td>Bohemian Rhapsody</td>\n",
       "      <td>1</td>\n",
       "    </tr>\n",
       "    <tr>\n",
       "      <th>12</th>\n",
       "      <td>Interstellar</td>\n",
       "      <td>1</td>\n",
       "    </tr>\n",
       "    <tr>\n",
       "      <th>13</th>\n",
       "      <td>Inception</td>\n",
       "      <td>1</td>\n",
       "    </tr>\n",
       "    <tr>\n",
       "      <th>14</th>\n",
       "      <td>Hunger Games</td>\n",
       "      <td>1</td>\n",
       "    </tr>\n",
       "    <tr>\n",
       "      <th>15</th>\n",
       "      <td>Harry Potter</td>\n",
       "      <td>1</td>\n",
       "    </tr>\n",
       "    <tr>\n",
       "      <th>16</th>\n",
       "      <td>Hangover</td>\n",
       "      <td>1</td>\n",
       "    </tr>\n",
       "    <tr>\n",
       "      <th>17</th>\n",
       "      <td>Gravity</td>\n",
       "      <td>1</td>\n",
       "    </tr>\n",
       "    <tr>\n",
       "      <th>18</th>\n",
       "      <td>Dreamworks</td>\n",
       "      <td>1</td>\n",
       "    </tr>\n",
       "    <tr>\n",
       "      <th>19</th>\n",
       "      <td>James Bond</td>\n",
       "      <td>1</td>\n",
       "    </tr>\n",
       "  </tbody>\n",
       "</table>\n",
       "</div>"
      ],
      "text/plain": [
       "   popularity_overlap_title_cat  count\n",
       "0                        Marvel     18\n",
       "1              Disney Animation      6\n",
       "2                     DC Comics      6\n",
       "3                     Star Wars      2\n",
       "4      Pirates of the Caribbean      2\n",
       "5                 Jurassic Park      1\n",
       "6              Ready Plater One      1\n",
       "7           Planet of the Apes       1\n",
       "8            Mission Impossible      1\n",
       "9             Lord of the Rings      1\n",
       "10                    King Kong      1\n",
       "11            Bohemian Rhapsody      1\n",
       "12                 Interstellar      1\n",
       "13                    Inception      1\n",
       "14                 Hunger Games      1\n",
       "15                 Harry Potter      1\n",
       "16                     Hangover      1\n",
       "17                      Gravity      1\n",
       "18                   Dreamworks      1\n",
       "19                   James Bond      1"
      ]
     },
     "execution_count": 144,
     "metadata": {},
     "output_type": "execute_result"
    }
   ],
   "source": [
    "popularity_overlap_count"
   ]
  },
  {
   "cell_type": "code",
   "execution_count": 146,
   "metadata": {},
   "outputs": [
    {
     "data": {
      "image/png": "[encoded data removed]",
      "text/plain": [
       "<Figure size 1008x432 with 1 Axes>"
      ]
     },
     "metadata": {
      "needs_background": "light"
     },
     "output_type": "display_data"
    }
   ],
   "source": [
    "fig = plt.figure(figsize=(14,6))\n",
    "ax = plt.subplot()\n",
    "ax.bar(popularity_overlap_count['popularity_overlap_title_cat'],popularity_overlap_count['count'])\n",
    "ax.set_title('Categorized Most popular and high revenue earners')\n",
    "ax.set_ylabel('count')\n",
    "ax.set_xlabel('Categories')\n",
    "plt.xticks(rotation=45)\n",
    "plt.show()"
   ]
  },
  {
   "cell_type": "markdown",
   "metadata": {},
   "source": [
    "Q8: DO RT ratings indicate success - not possible to link to imdb right now \n",
    "cant use"
   ]
  }
 ],
 "metadata": {
  "kernelspec": {
   "display_name": "Python 3",
   "language": "python",
   "name": "python3"
  },
  "language_info": {
   "codemirror_mode": {
    "name": "ipython",
    "version": 3
   },
   "file_extension": ".py",
   "mimetype": "text/x-python",
   "name": "python",
   "nbconvert_exporter": "python",
   "pygments_lexer": "ipython3",
   "version": "3.7.6"
  }
 },
 "nbformat": 4,
 "nbformat_minor": 4
}
