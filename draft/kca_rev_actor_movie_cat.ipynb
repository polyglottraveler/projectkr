{
 "cells": [
  {
   "cell_type": "markdown",
   "metadata": {},
   "source": [
    "# Creating tables that correlate movies to categories and actors to gross box office"
   ]
  },
  {
   "cell_type": "code",
   "execution_count": 3,
   "metadata": {},
   "outputs": [],
   "source": [
    "#import packages\n",
    "\n",
    "import sqlite3\n",
    "import pandas as pd\n",
    "import matplotlib.pyplot as plt\n",
    "import numpy as np"
   ]
  },
  {
   "cell_type": "code",
   "execution_count": 13,
   "metadata": {},
   "outputs": [],
   "source": [
    "#import SQL Connection\n",
    "\n",
    "import mysql.connector\n",
    "\n",
    "con = mysql.connector.connect(user='hbs-student', password='super-secure-password?',\n",
    "                              host='hbs-ds-060120.c1doesqrid0e.us-east-1.rds.amazonaws.com',\n",
    "                              database='movies')\n",
    "cur = con.cursor()"
   ]
  },
  {
   "cell_type": "markdown",
   "metadata": {},
   "source": [
    "# Movie title and category "
   ]
  },
  {
   "cell_type": "code",
   "execution_count": 5,
   "metadata": {},
   "outputs": [],
   "source": [
    "#Import Movie Box office info\n",
    "df_joint_rev = pd.read_csv('joined_revenue')\n",
    "#Limit to top50 performing movies and make a list\n",
    "df_joint_rev_50_largest=df_joint_rev.nlargest(50,'worldwide_gross')\n",
    "movie_title_list = list(df_joint_rev_50_largest['movie_title'])"
   ]
  },
  {
   "cell_type": "code",
   "execution_count": 8,
   "metadata": {},
   "outputs": [],
   "source": [
    "#Manual categorization of top 50 moviesdf_top50_title_descr=pd.DataFrame(df_top50_title_descr)\n",
    "movie_descr = ['Avatar',\n",
    "'Titanic',\n",
    "'Star Wars',\n",
    "'Marvel',\n",
    "'Marvel',\n",
    "'Marvel',\n",
    "'Marvel',\n",
    "'Harry Potter',\n",
    "'Harry Potter',\n",
    "'Star Wars',\n",
    "'Star Wars',\n",
    "'Jurassic Park',\n",
    "'Disney Animation ',\n",
    "'Disney Animation ',\n",
    "'Disney Animation ',\n",
    "'Disney Animation ',\n",
    "'Marvel',\n",
    "'Universal Animation',\n",
    "'Marvel',\n",
    "'DC comics',\n",
    "'Lord of the Rings',\n",
    "'Marvel',\n",
    "'Marvel',\n",
    "'James Bond',\n",
    "'Marvel',\n",
    "'DC comics',\n",
    "'Disney Animation ',\n",
    "'Pirates of the Carribbean',\n",
    "'Star Wars',\n",
    "'Pirates of the Carribbean',\n",
    "'Jurassic Park',\n",
    "'Universal Animation',\n",
    "'Disney Animation ',\n",
    "'Star Wars',\n",
    "'Disney Animation ',\n",
    "'Disney Animation ',\n",
    "'Disney Animation ',\n",
    "'Lord of the Rings',\n",
    "'DC comics',\n",
    "'Disney Animation ',\n",
    "'Harry Potter',\n",
    "'Universal Animation',\n",
    "'Disney Animation ',\n",
    "'Pirates of the Carribbean',\n",
    "'Disney Animation ',\n",
    "'Jumanji',\n",
    "'Harry Potter',\n",
    "'Harry Potter',\n",
    "'Lord of the Rings',\n",
    "'Lord of the Rings']\n",
    "d_top50_title_descr={'movie_title_list':movie_title_list,'movie_descr':movie_descr}"
   ]
  },
  {
   "cell_type": "code",
   "execution_count": 11,
   "metadata": {},
   "outputs": [],
   "source": [
    "df_top50_title_descr=pd.DataFrame(d_top50_title_descr)\n",
    "df_top50_title_descr.to_csv('movie_title_descr')"
   ]
  },
  {
   "cell_type": "markdown",
   "metadata": {},
   "source": [
    "# Q5. who are the best actors/directors etc by box office revenue"
   ]
  },
  {
   "cell_type": "code",
   "execution_count": 14,
   "metadata": {},
   "outputs": [],
   "source": [
    "query_names=\"\"\"SELECT DISTINCT\n",
    "    n.nconst,\n",
    "    primary_name,\n",
    "    primary_profession,\n",
    "    primary_title,\n",
    "    start_year\n",
    "FROM\n",
    "    imdb_title_principals p\n",
    "        JOIN\n",
    "    imdb_title_basics t USING (tconst)\n",
    "        JOIN\n",
    "    imdb_name_basics n USING (nconst)\"\"\"\n",
    "df_names = pd.read_sql_query(query_names,con)\n"
   ]
  },
  {
   "cell_type": "code",
   "execution_count": 7,
   "metadata": {},
   "outputs": [],
   "source": [
    "df_names.to_csv('names_movies')"
   ]
  },
  {
   "cell_type": "code",
   "execution_count": 8,
   "metadata": {},
   "outputs": [],
   "source": [
    "df_names=pd.read_csv('names_movies')\n",
    "df_joint_rev = pd.read_csv('joined_revenue')"
   ]
  },
  {
   "cell_type": "code",
   "execution_count": 7,
   "metadata": {},
   "outputs": [],
   "source": [
    "df_names_rev = df_names.merge(df_joint_rev, how='inner', left_on =['primary_title','start_year'], right_on=['movie_title','release_year'])"
   ]
  },
  {
   "cell_type": "code",
   "execution_count": 14,
   "metadata": {},
   "outputs": [],
   "source": [
    "df_names_rev.to_csv('df_names_rev')"
   ]
  },
  {
   "cell_type": "code",
   "execution_count": 22,
   "metadata": {},
   "outputs": [],
   "source": [
    "df_names_rev = pd.read_csv('df_names_rev')"
   ]
  },
  {
   "cell_type": "code",
   "execution_count": 26,
   "metadata": {},
   "outputs": [],
   "source": [
    "df_names_rev_skinny = df_names_rev.drop(['Unnamed: 0', 'Unnamed: 0_x', 'primary_title','start_year','Unnamed: 0_y','movie_title','production_budget','domestic_gross','release_year'], axis=1)\n"
   ]
  },
  {
   "cell_type": "code",
   "execution_count": 27,
   "metadata": {},
   "outputs": [],
   "source": [
    "df_names_rev_grouped = df_names_rev_skinny.groupby(['nconst','primary_name', 'primary_profession']).sum().sort_values(by=['worldwide_gross'], ascending = False)"
   ]
  },
  {
   "cell_type": "code",
   "execution_count": 29,
   "metadata": {},
   "outputs": [],
   "source": [
    "df_names_rev_grouped.to_csv('rev_by_name')"
   ]
  },
  {
   "cell_type": "code",
   "execution_count": 15,
   "metadata": {},
   "outputs": [],
   "source": [
    "df_names_rev_grouped=pd.read_csv('rev_by_name')"
   ]
  }
 ],
 "metadata": {
  "kernelspec": {
   "display_name": "Python 3",
   "language": "python",
   "name": "python3"
  },
  "language_info": {
   "codemirror_mode": {
    "name": "ipython",
    "version": 3
   },
   "file_extension": ".py",
   "mimetype": "text/x-python",
   "name": "python",
   "nbconvert_exporter": "python",
   "pygments_lexer": "ipython3",
   "version": "3.7.6"
  }
 },
 "nbformat": 4,
 "nbformat_minor": 4
}
